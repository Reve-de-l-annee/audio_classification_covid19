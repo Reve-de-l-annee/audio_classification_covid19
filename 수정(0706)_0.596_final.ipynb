{
 "cells": [
  {
   "cell_type": "markdown",
   "id": "4ffc0fb5-5918-4ed2-8374-0c6513a267a2",
   "metadata": {},
   "source": [
    "## Import"
   ]
  },
  {
   "cell_type": "code",
   "execution_count": 1,
   "id": "dd23f502-45c6-43a5-92a2-c5b9735449ac",
   "metadata": {
    "ExecuteTime": {
     "end_time": "2022-07-11T08:41:57.003103Z",
     "start_time": "2022-07-11T08:41:53.892893Z"
    }
   },
   "outputs": [],
   "source": [
    "import random\n",
    "import pandas as pd\n",
    "import numpy as np\n",
    "import os\n",
    "import librosa\n",
    "\n",
    "from tqdm.auto import tqdm\n",
    "\n",
    "from sklearn.preprocessing import OneHotEncoder\n",
    "\n",
    "import warnings\n",
    "warnings.filterwarnings(action='ignore') "
   ]
  },
  {
   "cell_type": "markdown",
   "id": "eaff0b9e-95cb-4172-8ee2-2bc6bc5c8afa",
   "metadata": {},
   "source": [
    "## Hyperparameter Setting"
   ]
  },
  {
   "cell_type": "code",
   "execution_count": 2,
   "id": "17027eb2-ab83-450b-97d0-28dff9cb2731",
   "metadata": {
    "ExecuteTime": {
     "end_time": "2022-07-11T08:41:57.006108Z",
     "start_time": "2022-07-11T08:41:57.004370Z"
    }
   },
   "outputs": [],
   "source": [
    "CFG = {\n",
    "    'SR':16000,\n",
    "    'N_melspectrogram':16, # Melspectrogram 벡터를 추출할 개수\n",
    "    'SEED':41\n",
    "}"
   ]
  },
  {
   "cell_type": "markdown",
   "id": "1b8abaa4-229d-4ce9-a737-3263fc9c6213",
   "metadata": {},
   "source": [
    "## Fixed Random-Seed"
   ]
  },
  {
   "cell_type": "code",
   "execution_count": 3,
   "id": "a89a75c6-42e9-4a60-8ca2-b70df1248871",
   "metadata": {
    "ExecuteTime": {
     "end_time": "2022-07-11T08:41:57.009050Z",
     "start_time": "2022-07-11T08:41:57.006949Z"
    }
   },
   "outputs": [],
   "source": [
    "def seed_everything(seed):\n",
    "    random.seed(seed)\n",
    "    os.environ['PYTHONHASHSEED'] = str(seed)\n",
    "    np.random.seed(seed)\n",
    "\n",
    "seed_everything(CFG['SEED']) # Seed 고정"
   ]
  },
  {
   "cell_type": "markdown",
   "id": "72d57a51-dc27-4af5-9261-91f61194d975",
   "metadata": {},
   "source": [
    "## Data Pre-Processing 1\n",
    "feature1. 로그 스케일링된 melspectrogram <br>\n",
    "feature2. (운율적 소리(harmonic)+두드리는 소리(percussive)의 구성 요소) 평균<br>\n",
    "feature3. 로그 스케일링된 melspectrogram의 델타<br>\n",
    "위의 세 feature로 특성 추출"
   ]
  },
  {
   "cell_type": "code",
   "execution_count": 4,
   "id": "2c96e8f1",
   "metadata": {
    "ExecuteTime": {
     "end_time": "2022-07-11T08:41:57.654593Z",
     "start_time": "2022-07-11T08:41:57.620067Z"
    }
   },
   "outputs": [],
   "source": [
    "base_path = './data/'\n",
    "train_df = pd.read_csv( base_path + '/train_data.csv')\n",
    "test_df = pd.read_csv( base_path + '/test_data.csv')"
   ]
  },
  {
   "cell_type": "code",
   "execution_count": 5,
   "id": "b7877737",
   "metadata": {
    "ExecuteTime": {
     "end_time": "2022-07-11T09:19:18.809802Z",
     "start_time": "2022-07-11T08:41:58.644569Z"
    }
   },
   "outputs": [
    {
     "data": {
      "application/vnd.jupyter.widget-view+json": {
       "model_id": "77fdd86a8d45404bb669bf899830deb3",
       "version_major": 2,
       "version_minor": 0
      },
      "text/plain": [
       "  0%|          | 0/3805 [00:00<?, ?it/s]"
      ]
     },
     "metadata": {},
     "output_type": "display_data"
    }
   ],
   "source": [
    "# train feature engineering\n",
    "# Data Folder path\n",
    "root_folder = './data/'\n",
    "\n",
    "    \n",
    "features = []\n",
    "log_specgrams_hp = []\n",
    "f_list1=[]\n",
    "f_list2=[]\n",
    "f_list3=[]\n",
    "\n",
    "for uid in tqdm(train_df['id']):\n",
    "    \n",
    "    root_path = os.path.join(root_folder, 'train')\n",
    "    path = os.path.join(root_path, str(uid).zfill(5)+'.wav')\n",
    "    \n",
    "    # librosa패키지를 사용하여 wav 파일 load\n",
    "    y, sr = librosa.load(path, sr=CFG['SR'])\n",
    "     \n",
    "    # feature1, feature3\n",
    "    # librosa패키지를 사용하여 melspectrogram 추출\n",
    "    melspectrogram = librosa.feature.melspectrogram(y=y, sr=sr, n_mels=CFG['N_melspectrogram'])\n",
    "    \n",
    "    # feature3 : 로그스케일링된 melspectrogram의 델타값을 Feature로 사용\n",
    "    y_feature3 = []\n",
    "    for e in melspectrogram:\n",
    "        y_feature3.append(np.mean(librosa.feature.delta(e)))\n",
    "    f_list3.append(y_feature3)\n",
    "\n",
    "    # log sccale로 변환\n",
    "    feature1 = librosa.power_to_db(S=melspectrogram, ref=1.0)\n",
    "    \n",
    "    # feature1 : 추출된 melspectrogram들의 평균을 Feature로 사용\n",
    "    y_feature1 = []\n",
    "    for e in feature1:\n",
    "        y_feature1.append(np.mean(e))    \n",
    "    f_list1.append(y_feature1)\n",
    "    \n",
    "    \n",
    "    # feature2\n",
    "    # librosa.effects.hpss를 사용한 feature 추출\n",
    "    y_harmonic, y_percussive = librosa.effects.hpss(y)\n",
    "    melspec_harmonic = librosa.feature.melspectrogram(y_harmonic, n_mels = CFG['N_melspectrogram'])\n",
    "    melspec_percussive = librosa.feature.melspectrogram(y_percussive, n_mels = CFG['N_melspectrogram'])\n",
    "    logspec_harmonic = librosa.amplitude_to_db(melspec_harmonic)\n",
    "    logspec_percussive = librosa.amplitude_to_db(melspec_percussive)\n",
    "    logspec_hp = np.average([logspec_harmonic, logspec_percussive], axis=0)\n",
    "\n",
    "    y_feature2 = []\n",
    "    for e in logspec_hp:\n",
    "        y_feature2.append(np.mean(e))\n",
    "    f_list2.append(y_feature2)"
   ]
  },
  {
   "cell_type": "code",
   "execution_count": 6,
   "id": "5832dadc",
   "metadata": {
    "ExecuteTime": {
     "end_time": "2022-07-11T09:19:19.024266Z",
     "start_time": "2022-07-11T09:19:18.811883Z"
    }
   },
   "outputs": [
    {
     "name": "stdout",
     "output_type": "stream",
     "text": [
      "Done.\n"
     ]
    }
   ],
   "source": [
    "# 기존의 자가진단 정보를 담은 데이터프레임에 추출된 오디오 Feature를 추가\n",
    "f_list1 = pd.DataFrame(f_list1)\n",
    "f_list2 = pd.DataFrame(f_list2)\n",
    "f_list3 = pd.DataFrame(f_list3)\n",
    "\n",
    "f_list1.columns = ['melspectrogram_1_'+str(x) for x in range(1,CFG['N_melspectrogram']+1)]\n",
    "f_list2.columns = ['melspectrogram_2_'+str(x) for x in range(1,CFG['N_melspectrogram']+1)]\n",
    "f_list3.columns = ['melspectrogram_3_'+str(x) for x in range(1,CFG['N_melspectrogram']+1)]\n",
    "\n",
    "melspectrogram_train_df = pd.concat([f_list1,f_list2,f_list3], axis=1)\n",
    "train_df = pd.concat([train_df, melspectrogram_train_df], axis=1)\n",
    "train_df.to_csv('./train_melspectrogram_3features.csv', index=False)\n",
    "print('Done.')"
   ]
  },
  {
   "cell_type": "code",
   "execution_count": 7,
   "id": "75c312e5",
   "metadata": {
    "ExecuteTime": {
     "end_time": "2022-07-11T10:14:55.864120Z",
     "start_time": "2022-07-11T09:19:19.025213Z"
    }
   },
   "outputs": [
    {
     "data": {
      "application/vnd.jupyter.widget-view+json": {
       "model_id": "6bae238b717d411a9ed3e269105032eb",
       "version_major": 2,
       "version_minor": 0
      },
      "text/plain": [
       "  0%|          | 0/5732 [00:00<?, ?it/s]"
      ]
     },
     "metadata": {},
     "output_type": "display_data"
    }
   ],
   "source": [
    "# test feature engineering\n",
    "# Data Folder path\n",
    "root_folder = './data/'\n",
    "\n",
    "    \n",
    "features = []\n",
    "log_specgrams_hp = []\n",
    "f_list1=[]\n",
    "f_list2=[]\n",
    "f_list3=[]\n",
    "\n",
    "for uid in tqdm(test_df['id']):\n",
    "    \n",
    "    root_path = os.path.join(root_folder, 'test')\n",
    "    path = os.path.join(root_path, str(uid).zfill(5)+'.wav')\n",
    "    \n",
    "    # librosa패키지를 사용하여 wav 파일 load\n",
    "    y, sr = librosa.load(path, sr=CFG['SR'])\n",
    "     \n",
    "    # feature1, feature3\n",
    "    # librosa패키지를 사용하여 melspectrogram 추출\n",
    "    melspectrogram = librosa.feature.melspectrogram(y=y, sr=sr, n_mels=CFG['N_melspectrogram'])\n",
    "    \n",
    "    # feature3 : 로그스케일링된 melspectrogram의 델타값을 Feature로 사용\n",
    "    y_feature3 = []\n",
    "    for e in melspectrogram:\n",
    "        y_feature3.append(np.mean(librosa.feature.delta(e)))\n",
    "    f_list3.append(y_feature3)\n",
    "\n",
    "    # log sccale로 변환\n",
    "    feature1 = librosa.power_to_db(S=melspectrogram, ref=1.0)\n",
    "    \n",
    "    # feature1 : 추출된 melspectrogram들의 평균을 Feature로 사용\n",
    "    y_feature1 = []\n",
    "    for e in feature1:\n",
    "        y_feature1.append(np.mean(e))    \n",
    "    f_list1.append(y_feature1)\n",
    "    \n",
    "    \n",
    "    # feature2\n",
    "    # librosa.effects.hpss를 사용한 feature 추출\n",
    "    y_harmonic, y_percussive = librosa.effects.hpss(y)\n",
    "    melspec_harmonic = librosa.feature.melspectrogram(y_harmonic, n_mels = CFG['N_melspectrogram'])\n",
    "    melspec_percussive = librosa.feature.melspectrogram(y_percussive, n_mels = CFG['N_melspectrogram'])\n",
    "    logspec_harmonic = librosa.amplitude_to_db(melspec_harmonic)\n",
    "    logspec_percussive = librosa.amplitude_to_db(melspec_percussive)\n",
    "    logspec_hp = np.average([logspec_harmonic, logspec_percussive], axis=0)\n",
    "\n",
    "    y_feature2 = []\n",
    "    for e in logspec_hp:\n",
    "        y_feature2.append(np.mean(e))\n",
    "    f_list2.append(y_feature2)"
   ]
  },
  {
   "cell_type": "code",
   "execution_count": 8,
   "id": "03d43427",
   "metadata": {
    "ExecuteTime": {
     "end_time": "2022-07-11T10:14:56.176519Z",
     "start_time": "2022-07-11T10:14:55.866904Z"
    }
   },
   "outputs": [
    {
     "name": "stdout",
     "output_type": "stream",
     "text": [
      "Done.\n"
     ]
    }
   ],
   "source": [
    "# 기존의 자가진단 정보를 담은 데이터프레임에 추출된 오디오 Feature를 추가\n",
    "f_list1 = pd.DataFrame(f_list1)\n",
    "f_list2 = pd.DataFrame(f_list2)\n",
    "f_list3 = pd.DataFrame(f_list3)\n",
    "\n",
    "f_list1.columns = ['melspectrogram_1_'+str(x) for x in range(1,CFG['N_melspectrogram']+1)]\n",
    "f_list2.columns = ['melspectrogram_2_'+str(x) for x in range(1,CFG['N_melspectrogram']+1)]\n",
    "f_list3.columns = ['melspectrogram_3_'+str(x) for x in range(1,CFG['N_melspectrogram']+1)]\n",
    "\n",
    "melspectrogram_test_df = pd.concat([f_list1,f_list2,f_list3], axis=1)\n",
    "test_df = pd.concat([test_df, melspectrogram_test_df], axis=1)\n",
    "test_df.to_csv('./test_melspectrogram_3features.csv', index=False)\n",
    "print('Done.')"
   ]
  },
  {
   "cell_type": "markdown",
   "id": "c998e196-6a3b-4214-8495-f026c015f8c5",
   "metadata": {},
   "source": [
    "## Data Pre-Processing 2"
   ]
  },
  {
   "cell_type": "code",
   "execution_count": 9,
   "id": "f896cce2-0f47-4377-b2a1-95144e58581b",
   "metadata": {
    "ExecuteTime": {
     "end_time": "2022-07-11T10:14:56.207291Z",
     "start_time": "2022-07-11T10:14:56.177668Z"
    }
   },
   "outputs": [],
   "source": [
    "# wav 파일의 Melspectrogram Feature와 상태정보를 합친 학습데이터를 불러옵니다.\n",
    "train_df = pd.read_csv('./train_melspectrogram_3features.csv')\n",
    "\n",
    "# 학습데이터를 모델의 input으로 들어갈 x와 label로 사용할 y로 분할\n",
    "train_x = train_df.drop(columns=['id', 'covid19'])\n",
    "train_y = train_df['covid19']"
   ]
  },
  {
   "cell_type": "code",
   "execution_count": 10,
   "id": "c4a66ac7-c6db-4258-802a-9fedded85412",
   "metadata": {
    "ExecuteTime": {
     "end_time": "2022-07-11T10:14:56.211474Z",
     "start_time": "2022-07-11T10:14:56.208375Z"
    }
   },
   "outputs": [],
   "source": [
    "def onehot_encoding(ohe, x):\n",
    "    # 학습데이터로 부터 fit된 one-hot encoder (ohe)를 받아 transform 시켜주는 함수\n",
    "    encoded = ohe.transform(x['gender'].values.reshape(-1,1))\n",
    "    encoded_df = pd.DataFrame(encoded, columns=ohe.categories_[0])\n",
    "    x = pd.concat([x.drop(columns=['gender']), encoded_df], axis=1)\n",
    "    return x"
   ]
  },
  {
   "cell_type": "code",
   "execution_count": 11,
   "id": "cade4609-22a8-40f1-936d-a8ec8ba90f4e",
   "metadata": {
    "ExecuteTime": {
     "end_time": "2022-07-11T10:14:56.219189Z",
     "start_time": "2022-07-11T10:14:56.212545Z"
    },
    "tags": []
   },
   "outputs": [],
   "source": [
    "# 'gender' column의 경우 추가 전처리가 필요 -> OneHotEncoder 적용\n",
    "ohe = OneHotEncoder(sparse=False)\n",
    "ohe.fit(train_x['gender'].values.reshape(-1,1))\n",
    "train_x = onehot_encoding(ohe, train_x)"
   ]
  },
  {
   "cell_type": "markdown",
   "id": "4c44c2fb-1560-4c8a-a908-9fa9271f5e03",
   "metadata": {},
   "source": [
    "## Train"
   ]
  },
  {
   "cell_type": "code",
   "execution_count": 19,
   "id": "7b75ff85",
   "metadata": {
    "ExecuteTime": {
     "end_time": "2022-07-11T10:17:22.257812Z",
     "start_time": "2022-07-11T10:17:22.247153Z"
    }
   },
   "outputs": [],
   "source": [
    "import keras\n",
    "from keras import models\n",
    "from keras import layers\n",
    "\n",
    "import tensorflow as tf\n",
    "from tensorflow import keras\n",
    "from tensorflow.keras.models import Sequential\n",
    "from tensorflow.keras.layers import Conv2D, Flatten, Dense, MaxPool2D, Dropout\n",
    "from tensorflow.keras.utils import to_categorical \n",
    "\n",
    "import seaborn as sns\n",
    "import matplotlib.pyplot as plt\n",
    "from sklearn.preprocessing import StandardScaler\n",
    "from sklearn.model_selection import train_test_split"
   ]
  },
  {
   "cell_type": "code",
   "execution_count": 44,
   "id": "d646f9d2-a911-4ad7-83f3-1a5b79cb5a2a",
   "metadata": {
    "ExecuteTime": {
     "end_time": "2022-07-11T10:19:23.345957Z",
     "start_time": "2022-07-11T10:19:23.265625Z"
    }
   },
   "outputs": [
    {
     "name": "stdout",
     "output_type": "stream",
     "text": [
      "Model: \"sequential_5\"\n",
      "_________________________________________________________________\n",
      " Layer (type)                Output Shape              Param #   \n",
      "=================================================================\n",
      " dense_30 (Dense)            (None, 512)               28160     \n",
      "                                                                 \n",
      " dense_31 (Dense)            (None, 256)               131328    \n",
      "                                                                 \n",
      " dropout_10 (Dropout)        (None, 256)               0         \n",
      "                                                                 \n",
      " dense_32 (Dense)            (None, 128)               32896     \n",
      "                                                                 \n",
      " dense_33 (Dense)            (None, 64)                8256      \n",
      "                                                                 \n",
      " dropout_11 (Dropout)        (None, 64)                0         \n",
      "                                                                 \n",
      " dense_34 (Dense)            (None, 10)                650       \n",
      "                                                                 \n",
      " dense_35 (Dense)            (None, 2)                 22        \n",
      "                                                                 \n",
      "=================================================================\n",
      "Total params: 201,312\n",
      "Trainable params: 201,312\n",
      "Non-trainable params: 0\n",
      "_________________________________________________________________\n"
     ]
    }
   ],
   "source": [
    "def get_model():\n",
    "    model = models.Sequential()\n",
    "    model.add(layers.Dense(512, activation='relu', input_shape=(train_x.shape[1],))) \n",
    "\n",
    "    model.add(layers.Dense(256, activation='relu'))\n",
    "    model.add(Dropout(0.2))\n",
    "\n",
    "    model.add(layers.Dense(128, activation='relu'))\n",
    "\n",
    "    model.add(layers.Dense(64, activation='relu'))\n",
    "\n",
    "    model.add(Dropout(0.2))\n",
    "\n",
    "    model.add(layers.Dense(10, activation='relu'))\n",
    "    \n",
    "    model.add(layers.Dense(2, activation='softmax'))\n",
    "    \n",
    "    model.compile(optimizer= keras.optimizers.Adam(learning_rate=0.001),\n",
    "              loss='sparse_categorical_crossentropy',\n",
    "              metrics=['accuracy'])\n",
    "    \n",
    "    return model\n",
    "\n",
    "# plot model\n",
    "model = get_model()\n",
    "model.summary()"
   ]
  },
  {
   "cell_type": "code",
   "execution_count": 45,
   "id": "dc505a63",
   "metadata": {
    "ExecuteTime": {
     "end_time": "2022-07-11T10:19:35.712680Z",
     "start_time": "2022-07-11T10:19:23.591148Z"
    },
    "scrolled": false
   },
   "outputs": [
    {
     "name": "stdout",
     "output_type": "stream",
     "text": [
      "WARNING:tensorflow:`period` argument is deprecated. Please use `save_freq` to specify the frequency in number of batches seen.\n",
      "Epoch 1/100\n",
      "48/48 [==============================] - 0s 4ms/step - loss: 0.6715 - accuracy: 0.8804 - val_loss: 0.3243 - val_accuracy: 0.9080\n",
      "Epoch 2/100\n",
      "48/48 [==============================] - 0s 3ms/step - loss: 0.3214 - accuracy: 0.9198 - val_loss: 0.3213 - val_accuracy: 0.9080\n",
      "Epoch 3/100\n",
      "48/48 [==============================] - 0s 3ms/step - loss: 0.3102 - accuracy: 0.9225 - val_loss: 0.3277 - val_accuracy: 0.9080\n",
      "Epoch 4/100\n",
      "48/48 [==============================] - 0s 3ms/step - loss: 0.3006 - accuracy: 0.9218 - val_loss: 0.3107 - val_accuracy: 0.9080\n",
      "Epoch 5/100\n",
      "48/48 [==============================] - 0s 3ms/step - loss: 0.2930 - accuracy: 0.9225 - val_loss: 0.3053 - val_accuracy: 0.9080\n",
      "Epoch 6/100\n",
      "48/48 [==============================] - 0s 3ms/step - loss: 0.2933 - accuracy: 0.9221 - val_loss: 0.3158 - val_accuracy: 0.9080\n",
      "Epoch 7/100\n",
      "48/48 [==============================] - 0s 3ms/step - loss: 0.2959 - accuracy: 0.9225 - val_loss: 0.3165 - val_accuracy: 0.9080\n",
      "Epoch 8/100\n",
      "48/48 [==============================] - 0s 3ms/step - loss: 0.2932 - accuracy: 0.9221 - val_loss: 0.3072 - val_accuracy: 0.9080\n",
      "Epoch 9/100\n",
      "48/48 [==============================] - 0s 3ms/step - loss: 0.2881 - accuracy: 0.9225 - val_loss: 0.3147 - val_accuracy: 0.9080\n",
      "Epoch 10/100\n",
      "48/48 [==============================] - 0s 3ms/step - loss: 0.2881 - accuracy: 0.9225 - val_loss: 0.3335 - val_accuracy: 0.9080\n",
      "Epoch 11/100\n",
      "48/48 [==============================] - 0s 3ms/step - loss: 0.2869 - accuracy: 0.9225 - val_loss: 0.3066 - val_accuracy: 0.9080\n",
      "Epoch 12/100\n",
      "48/48 [==============================] - 0s 2ms/step - loss: 0.2892 - accuracy: 0.9225 - val_loss: 0.3079 - val_accuracy: 0.9080\n",
      "Epoch 13/100\n",
      "48/48 [==============================] - 0s 2ms/step - loss: 0.2800 - accuracy: 0.9225 - val_loss: 0.3123 - val_accuracy: 0.9080\n",
      "Epoch 14/100\n",
      "48/48 [==============================] - 0s 3ms/step - loss: 0.2782 - accuracy: 0.9225 - val_loss: 0.3030 - val_accuracy: 0.9080\n",
      "Epoch 15/100\n",
      "48/48 [==============================] - 0s 3ms/step - loss: 0.2776 - accuracy: 0.9225 - val_loss: 0.3058 - val_accuracy: 0.9080\n",
      "Epoch 16/100\n",
      "48/48 [==============================] - 0s 3ms/step - loss: 0.2769 - accuracy: 0.9225 - val_loss: 0.3211 - val_accuracy: 0.9080\n",
      "Epoch 17/100\n",
      "48/48 [==============================] - 0s 2ms/step - loss: 0.2811 - accuracy: 0.9225 - val_loss: 0.3071 - val_accuracy: 0.9080\n",
      "Epoch 18/100\n",
      "48/48 [==============================] - 0s 3ms/step - loss: 0.2797 - accuracy: 0.9225 - val_loss: 0.3017 - val_accuracy: 0.9080\n",
      "Epoch 19/100\n",
      "48/48 [==============================] - 0s 3ms/step - loss: 0.2749 - accuracy: 0.9225 - val_loss: 0.3017 - val_accuracy: 0.9080\n",
      "Epoch 20/100\n",
      "48/48 [==============================] - 0s 3ms/step - loss: 0.2746 - accuracy: 0.9225 - val_loss: 0.3107 - val_accuracy: 0.9080\n",
      "Epoch 21/100\n",
      "48/48 [==============================] - 0s 3ms/step - loss: 0.2779 - accuracy: 0.9225 - val_loss: 0.3018 - val_accuracy: 0.9080\n",
      "Epoch 22/100\n",
      "48/48 [==============================] - 0s 3ms/step - loss: 0.2762 - accuracy: 0.9225 - val_loss: 0.3043 - val_accuracy: 0.9080\n",
      "Epoch 23/100\n",
      "48/48 [==============================] - 0s 3ms/step - loss: 0.2750 - accuracy: 0.9225 - val_loss: 0.2993 - val_accuracy: 0.9080\n",
      "Epoch 24/100\n",
      "48/48 [==============================] - 0s 2ms/step - loss: 0.2803 - accuracy: 0.9225 - val_loss: 0.2995 - val_accuracy: 0.9080\n",
      "Epoch 25/100\n",
      "48/48 [==============================] - 0s 2ms/step - loss: 0.2750 - accuracy: 0.9225 - val_loss: 0.3053 - val_accuracy: 0.9080\n",
      "Epoch 26/100\n",
      "48/48 [==============================] - 0s 3ms/step - loss: 0.2744 - accuracy: 0.9225 - val_loss: 0.3115 - val_accuracy: 0.9080\n",
      "Epoch 27/100\n",
      "48/48 [==============================] - 0s 3ms/step - loss: 0.2764 - accuracy: 0.9225 - val_loss: 0.3003 - val_accuracy: 0.9080\n",
      "Epoch 28/100\n",
      "48/48 [==============================] - 0s 3ms/step - loss: 0.2751 - accuracy: 0.9225 - val_loss: 0.2995 - val_accuracy: 0.9080\n",
      "Epoch 29/100\n",
      "48/48 [==============================] - 0s 3ms/step - loss: 0.2722 - accuracy: 0.9225 - val_loss: 0.2971 - val_accuracy: 0.9080\n",
      "Epoch 30/100\n",
      "48/48 [==============================] - 0s 3ms/step - loss: 0.2739 - accuracy: 0.9221 - val_loss: 0.2978 - val_accuracy: 0.9080\n",
      "Epoch 31/100\n",
      "48/48 [==============================] - 0s 3ms/step - loss: 0.2734 - accuracy: 0.9221 - val_loss: 0.2965 - val_accuracy: 0.9080\n",
      "Epoch 32/100\n",
      "48/48 [==============================] - 0s 3ms/step - loss: 0.2677 - accuracy: 0.9225 - val_loss: 0.2965 - val_accuracy: 0.9080\n",
      "Epoch 33/100\n",
      "48/48 [==============================] - 0s 3ms/step - loss: 0.2714 - accuracy: 0.9225 - val_loss: 0.2985 - val_accuracy: 0.9080\n",
      "Epoch 34/100\n",
      "48/48 [==============================] - 0s 3ms/step - loss: 0.2695 - accuracy: 0.9225 - val_loss: 0.2979 - val_accuracy: 0.9080\n",
      "Epoch 35/100\n",
      "48/48 [==============================] - 0s 3ms/step - loss: 0.2730 - accuracy: 0.9225 - val_loss: 0.2969 - val_accuracy: 0.9080\n",
      "Epoch 36/100\n",
      "48/48 [==============================] - 0s 3ms/step - loss: 0.2688 - accuracy: 0.9225 - val_loss: 0.2951 - val_accuracy: 0.9080\n",
      "Epoch 37/100\n",
      "48/48 [==============================] - 0s 2ms/step - loss: 0.2715 - accuracy: 0.9228 - val_loss: 0.3039 - val_accuracy: 0.9080\n",
      "Epoch 38/100\n",
      "48/48 [==============================] - 0s 3ms/step - loss: 0.2709 - accuracy: 0.9228 - val_loss: 0.2965 - val_accuracy: 0.9080\n",
      "Epoch 39/100\n",
      "48/48 [==============================] - 0s 3ms/step - loss: 0.2656 - accuracy: 0.9228 - val_loss: 0.2951 - val_accuracy: 0.9080\n",
      "Epoch 40/100\n",
      "48/48 [==============================] - 0s 3ms/step - loss: 0.2719 - accuracy: 0.9221 - val_loss: 0.2949 - val_accuracy: 0.9080\n",
      "Epoch 41/100\n",
      "48/48 [==============================] - 0s 3ms/step - loss: 0.2730 - accuracy: 0.9225 - val_loss: 0.3053 - val_accuracy: 0.9080\n",
      "Epoch 42/100\n",
      "48/48 [==============================] - 0s 3ms/step - loss: 0.2701 - accuracy: 0.9228 - val_loss: 0.2974 - val_accuracy: 0.9080\n",
      "Epoch 43/100\n",
      "48/48 [==============================] - 0s 3ms/step - loss: 0.2688 - accuracy: 0.9228 - val_loss: 0.2969 - val_accuracy: 0.9080\n",
      "Epoch 44/100\n",
      "48/48 [==============================] - 0s 3ms/step - loss: 0.2669 - accuracy: 0.9228 - val_loss: 0.2953 - val_accuracy: 0.9067\n",
      "Epoch 45/100\n",
      "48/48 [==============================] - 0s 2ms/step - loss: 0.2660 - accuracy: 0.9225 - val_loss: 0.3050 - val_accuracy: 0.9080\n",
      "Epoch 46/100\n",
      "48/48 [==============================] - 0s 3ms/step - loss: 0.2667 - accuracy: 0.9228 - val_loss: 0.2975 - val_accuracy: 0.9080\n",
      "Epoch 47/100\n",
      "48/48 [==============================] - 0s 3ms/step - loss: 0.2675 - accuracy: 0.9228 - val_loss: 0.3017 - val_accuracy: 0.9080\n",
      "Epoch 48/100\n",
      "48/48 [==============================] - 0s 2ms/step - loss: 0.2698 - accuracy: 0.9228 - val_loss: 0.2946 - val_accuracy: 0.9080\n",
      "Epoch 49/100\n",
      "48/48 [==============================] - 0s 3ms/step - loss: 0.2662 - accuracy: 0.9228 - val_loss: 0.3070 - val_accuracy: 0.9080\n",
      "Epoch 50/100\n",
      "48/48 [==============================] - 0s 3ms/step - loss: 0.2663 - accuracy: 0.9231 - val_loss: 0.3036 - val_accuracy: 0.9054\n",
      "Epoch 51/100\n",
      "48/48 [==============================] - 0s 3ms/step - loss: 0.2667 - accuracy: 0.9228 - val_loss: 0.2942 - val_accuracy: 0.9080\n",
      "Epoch 52/100\n",
      "48/48 [==============================] - 0s 3ms/step - loss: 0.2694 - accuracy: 0.9225 - val_loss: 0.2926 - val_accuracy: 0.9080\n",
      "Epoch 53/100\n",
      "48/48 [==============================] - 0s 3ms/step - loss: 0.2669 - accuracy: 0.9228 - val_loss: 0.3031 - val_accuracy: 0.9080\n",
      "Epoch 54/100\n",
      "48/48 [==============================] - 0s 3ms/step - loss: 0.2730 - accuracy: 0.9225 - val_loss: 0.3026 - val_accuracy: 0.9080\n",
      "Epoch 55/100\n",
      "48/48 [==============================] - 0s 3ms/step - loss: 0.2666 - accuracy: 0.9228 - val_loss: 0.3015 - val_accuracy: 0.9080\n",
      "Epoch 56/100\n",
      "48/48 [==============================] - 0s 2ms/step - loss: 0.2637 - accuracy: 0.9228 - val_loss: 0.2900 - val_accuracy: 0.9080\n",
      "Epoch 57/100\n",
      "48/48 [==============================] - 0s 2ms/step - loss: 0.2621 - accuracy: 0.9231 - val_loss: 0.2984 - val_accuracy: 0.9054\n"
     ]
    },
    {
     "name": "stdout",
     "output_type": "stream",
     "text": [
      "Epoch 58/100\n",
      "48/48 [==============================] - 0s 2ms/step - loss: 0.2612 - accuracy: 0.9228 - val_loss: 0.2913 - val_accuracy: 0.9054\n",
      "Epoch 59/100\n",
      "48/48 [==============================] - 0s 2ms/step - loss: 0.2675 - accuracy: 0.9228 - val_loss: 0.2953 - val_accuracy: 0.9080\n",
      "Epoch 60/100\n",
      "48/48 [==============================] - 0s 2ms/step - loss: 0.2644 - accuracy: 0.9231 - val_loss: 0.2953 - val_accuracy: 0.9080\n",
      "Epoch 61/100\n",
      "48/48 [==============================] - 0s 2ms/step - loss: 0.2651 - accuracy: 0.9228 - val_loss: 0.2954 - val_accuracy: 0.9054\n",
      "Epoch 62/100\n",
      "48/48 [==============================] - 0s 3ms/step - loss: 0.2610 - accuracy: 0.9235 - val_loss: 0.2954 - val_accuracy: 0.9080\n",
      "Epoch 63/100\n",
      "48/48 [==============================] - 0s 3ms/step - loss: 0.2630 - accuracy: 0.9228 - val_loss: 0.2888 - val_accuracy: 0.9080\n",
      "Epoch 64/100\n",
      "48/48 [==============================] - 0s 3ms/step - loss: 0.2595 - accuracy: 0.9231 - val_loss: 0.2886 - val_accuracy: 0.9067\n",
      "Epoch 65/100\n",
      "48/48 [==============================] - 0s 2ms/step - loss: 0.2570 - accuracy: 0.9231 - val_loss: 0.2965 - val_accuracy: 0.9054\n",
      "Epoch 66/100\n",
      "48/48 [==============================] - 0s 3ms/step - loss: 0.2624 - accuracy: 0.9228 - val_loss: 0.2961 - val_accuracy: 0.9067\n",
      "Epoch 67/100\n",
      "48/48 [==============================] - 0s 3ms/step - loss: 0.2620 - accuracy: 0.9228 - val_loss: 0.2920 - val_accuracy: 0.9080\n",
      "Epoch 68/100\n",
      "48/48 [==============================] - 0s 3ms/step - loss: 0.2599 - accuracy: 0.9228 - val_loss: 0.2974 - val_accuracy: 0.9014\n",
      "Epoch 69/100\n",
      "48/48 [==============================] - 0s 3ms/step - loss: 0.2574 - accuracy: 0.9218 - val_loss: 0.2833 - val_accuracy: 0.9080\n",
      "Epoch 70/100\n",
      "48/48 [==============================] - 0s 3ms/step - loss: 0.2682 - accuracy: 0.9228 - val_loss: 0.2904 - val_accuracy: 0.9080\n",
      "Epoch 71/100\n",
      "48/48 [==============================] - 0s 3ms/step - loss: 0.2556 - accuracy: 0.9231 - val_loss: 0.2939 - val_accuracy: 0.9080\n",
      "Epoch 72/100\n",
      "48/48 [==============================] - 0s 2ms/step - loss: 0.2587 - accuracy: 0.9228 - val_loss: 0.2848 - val_accuracy: 0.9080\n",
      "Epoch 73/100\n",
      "48/48 [==============================] - 0s 2ms/step - loss: 0.2591 - accuracy: 0.9228 - val_loss: 0.2900 - val_accuracy: 0.9054\n",
      "Epoch 74/100\n",
      "48/48 [==============================] - 0s 3ms/step - loss: 0.2645 - accuracy: 0.9235 - val_loss: 0.2994 - val_accuracy: 0.9054\n",
      "Epoch 75/100\n",
      "48/48 [==============================] - 0s 3ms/step - loss: 0.2575 - accuracy: 0.9235 - val_loss: 0.2856 - val_accuracy: 0.9080\n",
      "Epoch 76/100\n",
      "48/48 [==============================] - 0s 3ms/step - loss: 0.2620 - accuracy: 0.9231 - val_loss: 0.2866 - val_accuracy: 0.9080\n",
      "Epoch 77/100\n",
      "48/48 [==============================] - 0s 2ms/step - loss: 0.2598 - accuracy: 0.9238 - val_loss: 0.2915 - val_accuracy: 0.9067\n",
      "Epoch 78/100\n",
      "48/48 [==============================] - 0s 3ms/step - loss: 0.2539 - accuracy: 0.9231 - val_loss: 0.2818 - val_accuracy: 0.9067\n",
      "Epoch 79/100\n",
      "48/48 [==============================] - 0s 2ms/step - loss: 0.2550 - accuracy: 0.9215 - val_loss: 0.2861 - val_accuracy: 0.9067\n",
      "Epoch 80/100\n",
      "48/48 [==============================] - 0s 3ms/step - loss: 0.2594 - accuracy: 0.9235 - val_loss: 0.2880 - val_accuracy: 0.9067\n",
      "Epoch 81/100\n",
      "48/48 [==============================] - 0s 3ms/step - loss: 0.2609 - accuracy: 0.9231 - val_loss: 0.2934 - val_accuracy: 0.9067\n",
      "Epoch 82/100\n",
      "48/48 [==============================] - 0s 2ms/step - loss: 0.2563 - accuracy: 0.9231 - val_loss: 0.2815 - val_accuracy: 0.9106\n",
      "Epoch 83/100\n",
      "48/48 [==============================] - 0s 3ms/step - loss: 0.2547 - accuracy: 0.9225 - val_loss: 0.3094 - val_accuracy: 0.9080\n",
      "Epoch 84/100\n",
      "48/48 [==============================] - 0s 3ms/step - loss: 0.2639 - accuracy: 0.9225 - val_loss: 0.2812 - val_accuracy: 0.9080\n",
      "Epoch 85/100\n",
      "48/48 [==============================] - 0s 2ms/step - loss: 0.2606 - accuracy: 0.9228 - val_loss: 0.2857 - val_accuracy: 0.9080\n",
      "Epoch 86/100\n",
      "48/48 [==============================] - 0s 3ms/step - loss: 0.2539 - accuracy: 0.9228 - val_loss: 0.2855 - val_accuracy: 0.9080\n",
      "Epoch 87/100\n",
      "48/48 [==============================] - 0s 3ms/step - loss: 0.2610 - accuracy: 0.9228 - val_loss: 0.2877 - val_accuracy: 0.9093\n",
      "Epoch 88/100\n",
      "48/48 [==============================] - 0s 3ms/step - loss: 0.2557 - accuracy: 0.9221 - val_loss: 0.2865 - val_accuracy: 0.9054\n",
      "Epoch 89/100\n",
      "48/48 [==============================] - 0s 3ms/step - loss: 0.2572 - accuracy: 0.9238 - val_loss: 0.2954 - val_accuracy: 0.9054\n",
      "Epoch 90/100\n",
      "48/48 [==============================] - 0s 3ms/step - loss: 0.2573 - accuracy: 0.9225 - val_loss: 0.2939 - val_accuracy: 0.9054\n",
      "Epoch 91/100\n",
      "48/48 [==============================] - 0s 3ms/step - loss: 0.2581 - accuracy: 0.9228 - val_loss: 0.2887 - val_accuracy: 0.9080\n",
      "Epoch 92/100\n",
      "48/48 [==============================] - 0s 2ms/step - loss: 0.2553 - accuracy: 0.9228 - val_loss: 0.2815 - val_accuracy: 0.9080\n",
      "Epoch 93/100\n",
      "48/48 [==============================] - 0s 3ms/step - loss: 0.2541 - accuracy: 0.9231 - val_loss: 0.2837 - val_accuracy: 0.9067\n",
      "Epoch 94/100\n",
      "48/48 [==============================] - 0s 3ms/step - loss: 0.2580 - accuracy: 0.9238 - val_loss: 0.2890 - val_accuracy: 0.9067\n"
     ]
    }
   ],
   "source": [
    "batch_size = 64\n",
    "early_stopping_patience = 10\n",
    "\n",
    "\n",
    "# 모델 저장 조건 설정, early stopping 설정\n",
    "my_callbacks = [\n",
    "    tf.keras.callbacks.ModelCheckpoint(filepath='./model_{epoch:02d}.h5', \n",
    "                                       save_freq='epoch', \n",
    "                                       save_best_only=True,\n",
    "                                       period = 10),\n",
    "    tf.keras.callbacks.EarlyStopping(\n",
    "    monitor=\"val_loss\", patience=early_stopping_patience, restore_best_weights=True\n",
    "    )\n",
    "]\n",
    "\n",
    "\n",
    "# 모델 실행 및 저장\n",
    "history = model.fit(train_x, train_y,\n",
    "                    epochs=100,\n",
    "                    batch_size=batch_size,\n",
    "                    callbacks = my_callbacks,\n",
    "                    validation_split=0.2)"
   ]
  },
  {
   "cell_type": "code",
   "execution_count": 46,
   "id": "32a463f3",
   "metadata": {
    "ExecuteTime": {
     "end_time": "2022-07-11T10:19:35.837373Z",
     "start_time": "2022-07-11T10:19:35.713870Z"
    }
   },
   "outputs": [
    {
     "name": "stdout",
     "output_type": "stream",
     "text": [
      "119/119 [==============================] - 0s 733us/step - loss: 0.2570 - accuracy: 0.9201\n"
     ]
    }
   ],
   "source": [
    "test_loss, test_acc = model.evaluate(train_x, train_y)"
   ]
  },
  {
   "cell_type": "code",
   "execution_count": 47,
   "id": "12640041",
   "metadata": {
    "ExecuteTime": {
     "end_time": "2022-07-11T10:19:35.953032Z",
     "start_time": "2022-07-11T10:19:35.838208Z"
    }
   },
   "outputs": [
    {
     "name": "stdout",
     "output_type": "stream",
     "text": [
      "dict_keys(['loss', 'accuracy', 'val_loss', 'val_accuracy'])\n"
     ]
    },
    {
     "data": {
      "image/png": "[encoded data removed]",
      "text/plain": [
       "<Figure size 432x288 with 1 Axes>"
      ]
     },
     "metadata": {
      "needs_background": "light"
     },
     "output_type": "display_data"
    },
    {
     "data": {
      "image/png": "[encoded data removed]",
      "text/plain": [
       "<Figure size 432x288 with 1 Axes>"
      ]
     },
     "metadata": {
      "needs_background": "light"
     },
     "output_type": "display_data"
    }
   ],
   "source": [
    "def history_loss_acc(history,name):\n",
    "    # list all data in history\n",
    "    print(history.history.keys())\n",
    "    \n",
    "    # summarize history for accuracy\n",
    "    plt.plot(history.history['accuracy'])\n",
    "    plt.plot(history.history['val_accuracy'])\n",
    "    plt.title('model accuracy_'+name)\n",
    "    plt.ylabel('accuracy')\n",
    "    plt.xlabel('epoch')\n",
    "    plt.legend(['train', 'test'], loc='upper left')\n",
    "    plt.show()\n",
    "    \n",
    "    # summarize history for loss\n",
    "    plt.plot(history.history['loss'])\n",
    "    plt.plot(history.history['val_loss'])\n",
    "    plt.title('model loss_'+name)\n",
    "    plt.ylabel('loss')\n",
    "    plt.xlabel('epoch')\n",
    "    plt.legend(['train', 'test'], loc='upper left')\n",
    "    plt.show()\n",
    "\n",
    "history_loss_acc(history, 'Original data')"
   ]
  },
  {
   "cell_type": "markdown",
   "id": "848ec15f-5fc9-480b-9c9b-bcbf68ee34ed",
   "metadata": {},
   "source": [
    "## Inference"
   ]
  },
  {
   "cell_type": "code",
   "execution_count": 48,
   "id": "047646ba",
   "metadata": {
    "ExecuteTime": {
     "end_time": "2022-07-11T10:19:36.157318Z",
     "start_time": "2022-07-11T10:19:35.954532Z"
    }
   },
   "outputs": [
    {
     "data": {
      "text/plain": [
       "array([[0.90789163, 0.09210833],\n",
       "       [0.89945346, 0.10054656],\n",
       "       [0.9554628 , 0.04453719],\n",
       "       ...,\n",
       "       [0.91301674, 0.08698323],\n",
       "       [0.91328007, 0.08671993],\n",
       "       [0.7558162 , 0.2441838 ]], dtype=float32)"
      ]
     },
     "execution_count": 48,
     "metadata": {},
     "output_type": "execute_result"
    }
   ],
   "source": [
    "# 위의 학습데이터를 전처리한 과정과 동일하게 test data에도 적용\n",
    "test_x = pd.read_csv('./test_melspectrogram_3features.csv')\n",
    "test_x = test_x.drop(columns=['id'])\n",
    "# Data Leakage에 유의하여 train data로만 학습된 ohe를 사용\n",
    "test_x = onehot_encoding(ohe, test_x)\n",
    "\n",
    "# Model 추론\n",
    "preds = model.predict(test_x)\n",
    "preds"
   ]
  },
  {
   "cell_type": "code",
   "execution_count": 50,
   "id": "921a7fae",
   "metadata": {
    "ExecuteTime": {
     "end_time": "2022-07-11T10:20:50.845318Z",
     "start_time": "2022-07-11T10:20:50.663066Z"
    }
   },
   "outputs": [],
   "source": [
    "pred_w = pd.DataFrame(np.where((model.predict(test_x)>0.85),0,1))\n",
    "pred_w = pd.DataFrame(pred_w.iloc[:,0])"
   ]
  },
  {
   "cell_type": "markdown",
   "id": "a8585466-800b-4125-8289-5dce5070990c",
   "metadata": {},
   "source": [
    "## Submission"
   ]
  },
  {
   "cell_type": "code",
   "execution_count": 51,
   "id": "91e91fa6-ef2c-418f-90f2-e5662abe51b9",
   "metadata": {
    "ExecuteTime": {
     "end_time": "2022-07-11T10:20:54.605215Z",
     "start_time": "2022-07-11T10:20:54.577595Z"
    }
   },
   "outputs": [],
   "source": [
    "submission = pd.read_csv('./data/sample_submission.csv')\n",
    "submission['covid19'] = pred_w\n",
    "submission.to_csv('./submit.csv', index=False)"
   ]
  },
  {
   "cell_type": "code",
   "execution_count": 52,
   "id": "fddb92a1",
   "metadata": {
    "ExecuteTime": {
     "end_time": "2022-07-11T10:20:55.571256Z",
     "start_time": "2022-07-11T10:20:55.545530Z"
    }
   },
   "outputs": [
    {
     "data": {
      "text/html": [
       "<div>\n",
       "<style scoped>\n",
       "    .dataframe tbody tr th:only-of-type {\n",
       "        vertical-align: middle;\n",
       "    }\n",
       "\n",
       "    .dataframe tbody tr th {\n",
       "        vertical-align: top;\n",
       "    }\n",
       "\n",
       "    .dataframe thead th {\n",
       "        text-align: right;\n",
       "    }\n",
       "</style>\n",
       "<table border=\"1\" class=\"dataframe\">\n",
       "  <thead>\n",
       "    <tr style=\"text-align: right;\">\n",
       "      <th></th>\n",
       "      <th>id</th>\n",
       "      <th>covid19</th>\n",
       "    </tr>\n",
       "  </thead>\n",
       "  <tbody>\n",
       "    <tr>\n",
       "      <th>0</th>\n",
       "      <td>3806</td>\n",
       "      <td>0</td>\n",
       "    </tr>\n",
       "    <tr>\n",
       "      <th>1</th>\n",
       "      <td>3807</td>\n",
       "      <td>0</td>\n",
       "    </tr>\n",
       "    <tr>\n",
       "      <th>2</th>\n",
       "      <td>3808</td>\n",
       "      <td>0</td>\n",
       "    </tr>\n",
       "    <tr>\n",
       "      <th>3</th>\n",
       "      <td>3809</td>\n",
       "      <td>0</td>\n",
       "    </tr>\n",
       "    <tr>\n",
       "      <th>4</th>\n",
       "      <td>3810</td>\n",
       "      <td>0</td>\n",
       "    </tr>\n",
       "    <tr>\n",
       "      <th>...</th>\n",
       "      <td>...</td>\n",
       "      <td>...</td>\n",
       "    </tr>\n",
       "    <tr>\n",
       "      <th>5727</th>\n",
       "      <td>9533</td>\n",
       "      <td>0</td>\n",
       "    </tr>\n",
       "    <tr>\n",
       "      <th>5728</th>\n",
       "      <td>9534</td>\n",
       "      <td>0</td>\n",
       "    </tr>\n",
       "    <tr>\n",
       "      <th>5729</th>\n",
       "      <td>9535</td>\n",
       "      <td>0</td>\n",
       "    </tr>\n",
       "    <tr>\n",
       "      <th>5730</th>\n",
       "      <td>9536</td>\n",
       "      <td>0</td>\n",
       "    </tr>\n",
       "    <tr>\n",
       "      <th>5731</th>\n",
       "      <td>9537</td>\n",
       "      <td>1</td>\n",
       "    </tr>\n",
       "  </tbody>\n",
       "</table>\n",
       "<p>5732 rows × 2 columns</p>\n",
       "</div>"
      ],
      "text/plain": [
       "        id  covid19\n",
       "0     3806        0\n",
       "1     3807        0\n",
       "2     3808        0\n",
       "3     3809        0\n",
       "4     3810        0\n",
       "...    ...      ...\n",
       "5727  9533        0\n",
       "5728  9534        0\n",
       "5729  9535        0\n",
       "5730  9536        0\n",
       "5731  9537        1\n",
       "\n",
       "[5732 rows x 2 columns]"
      ]
     },
     "execution_count": 52,
     "metadata": {},
     "output_type": "execute_result"
    }
   ],
   "source": [
    "data_test = pd.read_csv('./submit.csv')\n",
    "data_test"
   ]
  },
  {
   "cell_type": "code",
   "execution_count": null,
   "id": "7391fbc8",
   "metadata": {},
   "outputs": [],
   "source": []
  }
 ],
 "metadata": {
  "kernelspec": {
   "display_name": "Python 3 (ipykernel)",
   "language": "python",
   "name": "python3"
  },
  "language_info": {
   "codemirror_mode": {
    "name": "ipython",
    "version": 3
   },
   "file_extension": ".py",
   "mimetype": "text/x-python",
   "name": "python",
   "nbconvert_exporter": "python",
   "pygments_lexer": "ipython3",
   "version": "3.8.13"
  },
  "toc": {
   "base_numbering": 1,
   "nav_menu": {},
   "number_sections": true,
   "sideBar": true,
   "skip_h1_title": false,
   "title_cell": "Table of Contents",
   "title_sidebar": "Contents",
   "toc_cell": false,
   "toc_position": {},
   "toc_section_display": true,
   "toc_window_display": false
  }
 },
 "nbformat": 4,
 "nbformat_minor": 5
}
